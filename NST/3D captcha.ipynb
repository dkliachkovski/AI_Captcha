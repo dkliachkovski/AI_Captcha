{
 "cells": [
  {
   "cell_type": "code",
   "execution_count": null,
   "metadata": {},
   "outputs": [],
   "source": [
    "import numpy, pylab\n",
    "from PIL import Image, ImageDraw, ImageFont\n",
    "import matplotlib.axes3d as axes3d\n",
    "\n",
    "sz = (50,30)\n",
    "\n",
    "img = Image.new('L', sz, 255)\n",
    "drw = ImageDraw.Draw(img)\n",
    "font = ImageFont.truetype(\"arial.ttf\", 20)\n",
    "\n",
    "drw.text((5,3), 'text', font=font)\n",
    "img.save('c:/test.png')\n",
    "\n",
    "X , Y = numpy.meshgrid(range(sz[0]),range(sz[1]))\n",
    "Z = 1-numpy.asarray(img)/255\n",
    "\n",
    "fig = pylab.figure()\n",
    "ax = axes3d.Axes3D(fig)\n",
    "ax.plot_wireframe(X, -Y, Z, rstride=1, cstride=1)\n",
    "ax.set_zlim((0,50))\n",
    "fig.savefig('c:/test2.png')"
   ]
  }
 ],
 "metadata": {
  "kernelspec": {
   "display_name": "Python 3",
   "language": "python",
   "name": "python3"
  }
 },
 "nbformat": 4,
 "nbformat_minor": 4
}
